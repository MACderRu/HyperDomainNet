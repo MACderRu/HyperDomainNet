{
 "cells": [
  {
   "cell_type": "code",
   "execution_count": 1,
   "id": "1dd08c8b-855e-432e-bdaa-23002163a2c0",
   "metadata": {},
   "outputs": [],
   "source": [
    "%cd ..\n",
    "\n",
    "!pip install -r requirements.txt\n",
    "!python download.py"
   ]
  },
  {
   "cell_type": "code",
   "execution_count": null,
   "id": "dfcae126-db56-4f30-84e8-b72cb4624204",
   "metadata": {},
   "outputs": [
    {
     "name": "stdout",
     "output_type": "stream",
     "text": [
      "[StyleGAN2] weights are already downloaded\n",
      "[DLIB] model is already downloaded\n",
      "/home/user/conda/lib/python3.7/site-packages/torch/cuda/__init__.py:52: UserWarning: CUDA initialization: Found no NVIDIA driver on your system. Please check that you have an NVIDIA GPU and installed a driver from http://www.nvidia.com/Download/index.aspx (Triggered internally at  /pytorch/c10/cuda/CUDAFunctions.cpp:100.)\n",
      "  return torch._C._cuda_getDeviceCount() > 0\n",
      "[CLIP] ViT-B/32 is loaded\n",
      "[CLIP] ViT-B/16 is loaded\n"
     ]
    }
   ],
   "source": []
  },
  {
   "cell_type": "markdown",
   "id": "48b6adf3-5e79-4004-adee-574e2c495fb0",
   "metadata": {},
   "source": [
    "## ***Config setup***\n",
    "\n",
    "\n",
    "### exp:\n",
    "  * config_dir: configs\n",
    "  * config: td_single_ffhq.yaml\n",
    "  * project: WandbProjectName\n",
    "  * tags:\n",
    "        - tag1\n",
    "        - tag2\n",
    "  * name: WandbRunName\n",
    "  * seed: 0\n",
    "  * root: .\n",
    "  * notes: empty notes\n",
    "  * step_save: 20  -  __model saving frequency__\n",
    "  * trainer: td_single\n",
    "  \n",
    "### training:\n",
    "  * iter_num: 400 --- number of training iterations\n",
    "  * batch_size: 4\n",
    "  * device: cuda:0\n",
    "  * generator: stylegan2\n",
    "  * patch_key: s_delta\n",
    "  * phase: mapping  --- __which type of stylegan2 generator is fine-tuned, only used when 'patch_key' != 'original'__\n",
    "  * source_class: Photo\n",
    "  * target_class: 3D Render in the Style of Pixar\n",
    "  * auto_layer_k: 16\n",
    "  * auto_layer_iters: 0 --- __number of iterations for adaptive corresponding stylegan2 layer freeze__\n",
    "  * auto_layer_batch: 8\n",
    "  * mixing_noise: 0.9\n",
    "\n",
    "### optimization_setup:\n",
    "  * visual_encoders: --- __clip encoders that are used for clip based losses__\n",
    "        - ViT-B/32\n",
    "        - ViT-B/16\n",
    "  * loss_funcs:\n",
    "        - direction\n",
    "  * loss_coefs:\n",
    "        - 1.0\n",
    "  * g_reg_every: 4  ---  __stylegan2 regularization coefficient__\n",
    "  * optimizer:  ---  __optimizer hyperparameters for trainable model__\n",
    "    * weight_decay: 0.0\n",
    "    * lr: 0.1\n",
    "    * betas:\n",
    "      - 0.9\n",
    "      - 0.999\n",
    "\n",
    "### evaluation:\n",
    "  * is_on: true  ---  __flag whether to activate evaluation during training__\n",
    "  * vision_models: ---  __clip encoders that are used for evaluation metrics based on CLIP__\n",
    "        - ViT-L/14\n",
    "  * step: 20\n",
    "  * data_size: 500\n",
    "  * batch_size: 12\n",
    "\n",
    "### logging:\n",
    "  * log_every: 10  ---  __metric logging step__\n",
    "  * log_images: 20  ---  __images logging step__\n",
    "  * latents_to_edit: []\n",
    "  * truncation: 0.7  ---  __truncation during images logging__\n",
    "  * num_grid_outputs: 1  ---  __number of logging grids__\n",
    "\n",
    "### checkpointing:\n",
    "  * is_on: false\n",
    "  * start_from: false\n",
    "  * step_backup: 100000"
   ]
  },
  {
   "cell_type": "code",
   "execution_count": null,
   "id": "43769c80-fbb1-4d51-aff2-0ecc75ff8f35",
   "metadata": {},
   "outputs": [],
   "source": []
  },
  {
   "cell_type": "code",
   "execution_count": null,
   "id": "ca3676a3-20ce-4649-8494-aa6cee1128b1",
   "metadata": {},
   "outputs": [],
   "source": [
    "!python main.py exp.config=td_single_ffhq.yaml"
   ]
  }
 ],
 "metadata": {
  "kernelspec": {
   "display_name": "Python 3 (ipykernel)",
   "language": "python",
   "name": "python3"
  },
  "language_info": {
   "codemirror_mode": {
    "name": "ipython",
    "version": 3
   },
   "file_extension": ".py",
   "mimetype": "text/x-python",
   "name": "python",
   "nbconvert_exporter": "python",
   "pygments_lexer": "ipython3",
   "version": "3.7.12"
  }
 },
 "nbformat": 4,
 "nbformat_minor": 5
}
